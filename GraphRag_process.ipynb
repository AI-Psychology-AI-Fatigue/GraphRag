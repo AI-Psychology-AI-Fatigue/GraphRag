{
 "cells": [
  {
   "cell_type": "code",
   "execution_count": 147,
   "metadata": {},
   "outputs": [
    {
     "name": "stdout",
     "output_type": "stream",
     "text": [
      "[Document(metadata={'source': './111.text'}, page_content=\"Sarah is an employee at prismaticAI, a leading technology company based in Westside Valley. She has been working there for the past three years as a software engineer.\\nMichael is also an employee at prismaticAI, where he works as a data scientist. He joined the company two years ago after completing his graduate studies.\\nprismaticAI is a well-known technology company that specializes in developing cutting-edge software solutions and artificial intelligence applications. The company has a diverse workforce of talented individuals from various backgrounds.\\nBoth Sarah and Michael are highly skilled professionals who contribute significantly to prismaticAI's success. They work closely with their respective teams to develop innovative products and services that meet the evolving needs of the company's clients.\")]\n"
     ]
    }
   ],
   "source": [
    "# from langchain.document_loaders import PyPDFLoader\n",
    "# from langchain.text_splitter import CharacterTextSplitter\n",
    "\n",
    "# # 加载 PDF 数据\n",
    "# loader = PyPDFLoader(\"./111.text\")  \n",
    "# documents = loader.load()\n",
    "\n",
    "# # 拆分文档\n",
    "# text_splitter = CharacterTextSplitter(chunk_size=500, chunk_overlap=20)\n",
    "# texts = text_splitter.split_documents(documents)\n",
    "\n",
    "# # 打印结果\n",
    "# print(texts)\n",
    "\n",
    "from langchain.document_loaders import TextLoader\n",
    "from langchain.text_splitter import CharacterTextSplitter\n",
    "\n",
    "# Load text data\n",
    "loader = TextLoader(\"./111.text\")\n",
    "documents = loader.load()\n",
    "text_splitter = CharacterTextSplitter(chunk_size=200, chunk_overlap=20)\n",
    "texts = text_splitter.split_documents(documents)\n",
    "print(texts)\n"
   ]
  },
  {
   "cell_type": "code",
   "execution_count": 148,
   "metadata": {},
   "outputs": [
    {
     "name": "stdout",
     "output_type": "stream",
     "text": [
      "Graph Documents:[GraphDocument(nodes=[Node(id='Sarah', type='Person', properties={}), Node(id='Michael', type='Person', properties={}), Node(id='prismaticAI', type='Company', properties={})], relationships=[Relationship(source=Node(id='prismaticAI', type='Company', properties={}), target=Node(id='Sarah', type='Person', properties={}), type='EMPLOYED_BY', properties={}), Relationship(source=Node(id='prismaticAI', type='Company', properties={}), target=Node(id='Michael', type='Person', properties={}), type='EMPLOYED_BY', properties={}), Relationship(source=Node(id='Sarah', type='Person', properties={}), target=Node(id='prismaticAI', type='Company', properties={}), type='WORKS_AT', properties={}), Relationship(source=Node(id='Michael', type='Person', properties={}), target=Node(id='prismaticAI', type='Company', properties={}), type='WORKS_AT', properties={}), Relationship(source=Node(id='Sarah', type='Person', properties={}), target=Node(id='Michael', type='Person', properties={}), type='COLLABORATES_WITH', properties={}), Relationship(source=Node(id='prismaticAI', type='Company', properties={}), target=Node(id='Sarah', type='Person', properties={}), type='HAS_EMPLOYEE', properties={}), Relationship(source=Node(id='prismaticAI', type='Company', properties={}), target=Node(id='Michael', type='Person', properties={}), type='HAS_EMPLOYEE', properties={})], source=Document(metadata={'source': './111.text'}, page_content=\"Sarah is an employee at prismaticAI, a leading technology company based in Westside Valley. She has been working there for the past three years as a software engineer.\\nMichael is also an employee at prismaticAI, where he works as a data scientist. He joined the company two years ago after completing his graduate studies.\\nprismaticAI is a well-known technology company that specializes in developing cutting-edge software solutions and artificial intelligence applications. The company has a diverse workforce of talented individuals from various backgrounds.\\nBoth Sarah and Michael are highly skilled professionals who contribute significantly to prismaticAI's success. They work closely with their respective teams to develop innovative products and services that meet the evolving needs of the company's clients.\"))]\n",
      "Nodes:[Node(id='Sarah', type='Person', properties={}), Node(id='Michael', type='Person', properties={}), Node(id='prismaticAI', type='Company', properties={})]\n",
      "Relationships:[Relationship(source=Node(id='prismaticAI', type='Company', properties={}), target=Node(id='Sarah', type='Person', properties={}), type='EMPLOYED_BY', properties={}), Relationship(source=Node(id='prismaticAI', type='Company', properties={}), target=Node(id='Michael', type='Person', properties={}), type='EMPLOYED_BY', properties={}), Relationship(source=Node(id='Sarah', type='Person', properties={}), target=Node(id='prismaticAI', type='Company', properties={}), type='WORKS_AT', properties={}), Relationship(source=Node(id='Michael', type='Person', properties={}), target=Node(id='prismaticAI', type='Company', properties={}), type='WORKS_AT', properties={}), Relationship(source=Node(id='Sarah', type='Person', properties={}), target=Node(id='Michael', type='Person', properties={}), type='COLLABORATES_WITH', properties={}), Relationship(source=Node(id='prismaticAI', type='Company', properties={}), target=Node(id='Sarah', type='Person', properties={}), type='HAS_EMPLOYEE', properties={}), Relationship(source=Node(id='prismaticAI', type='Company', properties={}), target=Node(id='Michael', type='Person', properties={}), type='HAS_EMPLOYEE', properties={})]\n"
     ]
    }
   ],
   "source": [
    "from langchain_experimental.graph_transformers import LLMGraphTransformer\n",
    "from langchain_ollama.llms import OllamaLLM\n",
    "\n",
    "model = OllamaLLM(model=\"llama3.1:8b\",temperature=0)\n",
    "# 提取知识图\n",
    "llm_transformer = LLMGraphTransformer(llm=model)\n",
    "# 将文本转换为图文档 \n",
    "graph_documents = llm_transformer.convert_to_graph_documents(texts)\n",
    "print(f\"Graph Documents:{graph_documents}\")\n",
    "print(f\"Nodes:{graph_documents[0].nodes}\")\n",
    "print(f\"Relationships:{graph_documents[0].relationships}\")"
   ]
  },
  {
   "cell_type": "code",
   "execution_count": 149,
   "metadata": {},
   "outputs": [
    {
     "name": "stdout",
     "output_type": "stream",
     "text": [
      "{'n': {'id': 'Sarah'}, 'r': ({'id': 'Sarah'}, 'WORKS_AT', {'id': 'prismaticAI'}), 'm': {'id': 'prismaticAI'}}\n",
      "{'n': {'id': 'Sarah'}, 'r': ({'id': 'Sarah'}, 'COLLABORATES_WITH', {'id': 'Michael'}), 'm': {'id': 'Michael'}}\n",
      "{'n': {'id': 'Michael'}, 'r': ({'id': 'Michael'}, 'WORKS_AT', {'id': 'prismaticAI'}), 'm': {'id': 'prismaticAI'}}\n",
      "{'n': {'id': 'prismaticAI'}, 'r': ({'id': 'prismaticAI'}, 'EMPLOYED_BY', {'id': 'Sarah'}), 'm': {'id': 'Sarah'}}\n",
      "{'n': {'id': 'prismaticAI'}, 'r': ({'id': 'prismaticAI'}, 'EMPLOYED_BY', {'id': 'Michael'}), 'm': {'id': 'Michael'}}\n",
      "{'n': {'id': 'prismaticAI'}, 'r': ({'id': 'prismaticAI'}, 'HAS_EMPLOYEE', {'id': 'Sarah'}), 'm': {'id': 'Sarah'}}\n",
      "{'n': {'id': 'prismaticAI'}, 'r': ({'id': 'prismaticAI'}, 'HAS_EMPLOYEE', {'id': 'Michael'}), 'm': {'id': 'Michael'}}\n"
     ]
    }
   ],
   "source": [
    "# 将知识图谱存储在数据库中\n",
    "import os\n",
    "from langchain_community.graphs import Neo4jGraph\n",
    "# Store Knowledge Graph in Neo4j\n",
    "# os.environ[\"NEO4J_URI\"] = \"neo4j+s://40b35635.databases.neo4j.io\"\n",
    "# os.environ[\"NEO4J_USERNAME\"] = \"neo4j\"\n",
    "# os.environ[\"NEO4J_PASSWORD\"] = \"y1dLeH4KFCUkcNhDTyv6Dpo0Q-Aqd_v_p-a0NqjswzM\"\n",
    "# graph = Neo4jGraph()\n",
    "# graph.query(\"helo\")\n",
    "graph = Neo4jGraph(url=\"neo4j+s://40b35635.databases.neo4j.io\", username=\"neo4j\", password=\"y1dLeH4KFCUkcNhDTyv6Dpo0Q-Aqd_v_p-a0NqjswzM\")\n",
    "graph.add_graph_documents(graph_documents)\n",
    "\n",
    "# 更新图模式\n",
    "graph.refresh_schema()\n",
    "\n",
    "# 查询所有节点和关系\n",
    "all_nodes_and_relationships = graph.query(\"MATCH (n)-[r]->(m) RETURN n, r, m\")\n",
    "for record in all_nodes_and_relationships:\n",
    "    print(record)\n"
   ]
  },
  {
   "cell_type": "code",
   "execution_count": 174,
   "metadata": {},
   "outputs": [
    {
     "name": "stdout",
     "output_type": "stream",
     "text": [
      "StorageContext(docstore=<llama_index.core.storage.docstore.simple_docstore.SimpleDocumentStore object at 0x7fa8e877b990>, index_store=<llama_index.core.storage.index_store.simple_index_store.SimpleIndexStore object at 0x7fa8e877be50>, vector_stores={'default': SimpleVectorStore(stores_text=False, is_embedding_query=True, data=SimpleVectorStoreData(embedding_dict={}, text_id_to_ref_doc_id={}, metadata_dict={})), 'image': SimpleVectorStore(stores_text=False, is_embedding_query=True, data=SimpleVectorStoreData(embedding_dict={}, text_id_to_ref_doc_id={}, metadata_dict={}))}, graph_store=<langchain_community.graphs.neo4j_graph.Neo4jGraph object at 0x7fa8e99e1290>, property_graph_store=None)\n"
     ]
    }
   ],
   "source": [
    "from llama_index.core import KnowledgeGraphIndex, SimpleDirectoryReader\n",
    "from llama_index.core import StorageContext\n",
    "from llama_index.graph_stores.neo4j import Neo4jGraphStore\n",
    "\n",
    "\n",
    "storage_context = StorageContext.from_defaults(graph_store=graph)\n",
    "print(storage_context)"
   ]
  },
  {
   "cell_type": "code",
   "execution_count": 214,
   "metadata": {},
   "outputs": [
    {
     "name": "stdout",
     "output_type": "stream",
     "text": [
      "\n",
      "\n",
      "\u001b[1m> Entering new GraphCypherQAChain chain...\u001b[0m\n",
      "Generated Cypher:\n",
      "\u001b[32;1m\u001b[1;3mcypher\n",
      "MATCH (m:Person {id: \"Michael\"})-[:WORKS_AT]->(c:Company)<-[:WORKS_AT]-(s:Person {id: \"Sarah\"})\n",
      "RETURN COUNT(c) > 0 AS worksForSameCompany\n",
      "\u001b[0m\n",
      "Full Context:\n",
      "\u001b[32;1m\u001b[1;3m[{'worksForSameCompany': True}]\u001b[0m\n",
      "\n",
      "\u001b[1m> Finished chain.\u001b[0m\n"
     ]
    },
    {
     "data": {
      "text/plain": [
       "{'query': 'Does Michael work for the same company as Sarah?',\n",
       " 'result': 'Yes, Michael works for the same company as Sarah.'}"
      ]
     },
     "execution_count": 214,
     "metadata": {},
     "output_type": "execute_result"
    }
   ],
   "source": [
    "from langchain.chains import GraphCypherQAChain\n",
    "from langchain.chat_models import ChatOpenAI\n",
    "# llm = ChatOpenAI\n",
    "llm = ChatOpenAI(\n",
    "    model=\"gpt-4o\",\n",
    "    api_key=\"sk-dUaahPQNqNtDfdFgB4C7C6C711A94fF29bAa8c0d93Bd09E8\",\n",
    "    temperature=0,\n",
    "    base_url=\"https://api.gptapi.us/v1/chat/completions\"\n",
    ")\n",
    "\n",
    "# llm = Ollama\n",
    "# llm = OllamaLLM(model=\"llama3.2:3b\", temperature=0)\n",
    "chain = GraphCypherQAChain.from_llm(graph=graph, llm=llm, verbose=True, validate_cypher=True, allow_dangerous_requests=True)\n",
    "response = chain.invoke({\"query\": \"Does Michael work for the same company as Sarah?\"})\n",
    "response"
   ]
  },
  {
   "cell_type": "code",
   "execution_count": null,
   "metadata": {},
   "outputs": [],
   "source": []
  },
  {
   "cell_type": "code",
   "execution_count": null,
   "metadata": {},
   "outputs": [],
   "source": []
  }
 ],
 "metadata": {
  "kernelspec": {
   "display_name": "cht_GraphRag",
   "language": "python",
   "name": "python3"
  },
  "language_info": {
   "codemirror_mode": {
    "name": "ipython",
    "version": 3
   },
   "file_extension": ".py",
   "mimetype": "text/x-python",
   "name": "python",
   "nbconvert_exporter": "python",
   "pygments_lexer": "ipython3",
   "version": "3.11.10"
  }
 },
 "nbformat": 4,
 "nbformat_minor": 2
}
